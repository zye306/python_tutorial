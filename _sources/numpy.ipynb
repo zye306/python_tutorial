{
 "cells": [
  {
   "cell_type": "markdown",
   "metadata": {},
   "source": [
    "# NumPy Tutorial for Beginners\n",
    "\n",
    "## Introduction\n",
    "NumPy (Numerical Python) is a Python library used for numerical computations and working with arrays. It provides a high-performance multidimensional array object, and tools for working with these arrays.\n",
    "\n",
    "## Installation\n",
    "You can install NumPy using pip:\n",
    "```python\n",
    "pip install numpy"
   ]
  },
  {
   "cell_type": "markdown",
   "metadata": {},
   "source": [
    "## Importing Numpy\n",
    "To use NumPy in your code, you need to import it first by:"
   ]
  },
  {
   "cell_type": "code",
   "execution_count": null,
   "metadata": {},
   "outputs": [],
   "source": [
    "import numpy as np"
   ]
  },
  {
   "cell_type": "markdown",
   "metadata": {},
   "source": [
    "### Creating Arrays\n",
    "You can create a Numpy array using the `np.array()` function:"
   ]
  },
  {
   "cell_type": "code",
   "execution_count": null,
   "metadata": {},
   "outputs": [],
   "source": [
    "arr = np.array([1, 2, 3, 4, 5])\n",
    "print(arr)"
   ]
  },
  {
   "cell_type": "markdown",
   "metadata": {},
   "source": [
    "### Array Operation\n",
    "Numpy arrays support all standard arithmetic operations:"
   ]
  },
  {
   "cell_type": "code",
   "execution_count": null,
   "metadata": {},
   "outputs": [],
   "source": [
    "arr1 = np.array([1, 2, 3])\n",
    "arr2 = np.array([4, 5, 6])\n",
    "\n",
    "# Addition\n",
    "print(arr1 + arr2)\n",
    "\n",
    "# Subtraction\n",
    "print(arr1 - arr2)\n",
    "\n",
    "# Multiplication\n",
    "print(arr1 * arr2)\n",
    "\n",
    "# Division\n",
    "print(arr1 / arr2)"
   ]
  },
  {
   "cell_type": "markdown",
   "metadata": {},
   "source": [
    "### Indexing\n",
    "You can access elements of a Numpy array using indices:"
   ]
  },
  {
   "cell_type": "code",
   "execution_count": null,
   "metadata": {},
   "outputs": [],
   "source": [
    "arr = np.array([1, 2, 3, 4, 5])\n",
    "print(arr[0])  # prints 1\n",
    "print(arr[2])  # prints 3"
   ]
  },
  {
   "cell_type": "markdown",
   "metadata": {},
   "source": [
    "### Slicing\n",
    "You can slice Numpy arrays similar to Python lists:"
   ]
  },
  {
   "cell_type": "code",
   "execution_count": null,
   "metadata": {},
   "outputs": [],
   "source": [
    "arr = np.array([1, 2, 3, 4, 5])\n",
    "print(arr[1:4])  # prints [2 3 4]"
   ]
  },
  {
   "cell_type": "markdown",
   "metadata": {},
   "source": [
    "### Shape and Reshape\n",
    "You can get the shape of an array using the `shape` attribute and change the shape using `reshape` function:"
   ]
  },
  {
   "cell_type": "code",
   "execution_count": null,
   "metadata": {},
   "outputs": [],
   "source": [
    "arr = np.array([[1, 2, 3], [4, 5, 6]])\n",
    "print(arr.shape)  # prints (2, 3)\n",
    "\n",
    "reshaped_arr = arr.reshape(3, 2)\n",
    "print(reshaped_arr)"
   ]
  }
 ],
 "metadata": {
  "kernelspec": {
   "display_name": "tutorial",
   "language": "python",
   "name": "python3"
  },
  "language_info": {
   "name": "python",
   "version": "3.12.0"
  }
 },
 "nbformat": 4,
 "nbformat_minor": 2
}
