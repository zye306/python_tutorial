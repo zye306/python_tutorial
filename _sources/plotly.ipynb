{
 "cells": [
  {
   "cell_type": "markdown",
   "metadata": {},
   "source": [
    "# Data Visualization with plotly\n",
    "\n",
    "## Installation\n",
    "You can install Plotly using pip or conda:\n",
    "\n",
    "`pip install plotly`\n",
    "\n",
    "`conda install -c plotly plotly=5.18.0`"
   ]
  },
  {
   "cell_type": "markdown",
   "metadata": {},
   "source": [
    "## Import plotly\n",
    "To use plotly in your code, you need to import it:"
   ]
  },
  {
   "cell_type": "code",
   "execution_count": null,
   "metadata": {},
   "outputs": [],
   "source": [
    "import plotly.express as px"
   ]
  },
  {
   "cell_type": "markdown",
   "metadata": {},
   "source": [
    "## Create a simple scatter plot\n",
    "\n",
    "We are using the Iris dataset that are built-in in the package as an example."
   ]
  }
 ],
 "metadata": {
  "kernelspec": {
   "display_name": "pybook",
   "language": "python",
   "name": "python3"
  },
  "language_info": {
   "name": "python",
   "version": "3.10.12"
  }
 },
 "nbformat": 4,
 "nbformat_minor": 2
}
